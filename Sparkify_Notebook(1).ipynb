{
 "cells": [
  {
   "cell_type": "markdown",
   "metadata": {},
   "source": [
    "### Project Introduction"
   ]
  },
  {
   "cell_type": "markdown",
   "metadata": {},
   "source": [
    "Project Overview: This project aims to analyze user data to understand the factors contributing to customer churn. Using Spark and various machine learning techniques, we processed and analyzed data to identify patterns and predict churn. The dataset consists of user activity logs from an online music streaming service."
   ]
  },
  {
   "cell_type": "markdown",
   "metadata": {},
   "source": [
    "The main objective is to build a model that accurately predicts customer churn. By understanding which users are likely to churn, the company can take proactive measures to retain them. We explore several models, including Logistic Regression, Decision Trees, and Random Forests, both in their basic and optimized forms, to determine the most effective predictive strategy."
   ]
  },
  {
   "cell_type": "markdown",
   "metadata": {},
   "source": [
    "We used AUC (Area Under the ROC Curve) and F1 Score as our primary metrics to evaluate model performance. These metrics are suitable for classification problems with imbalanced datasets, as they provide a comprehensive understanding of model performance beyond mere accuracy. AUC measures the model's ability to distinguish between classes, while the F1 Score balances precision and recall, offering insight into both false positives and false negatives."
   ]
  },
  {
   "cell_type": "code",
   "execution_count": 1,
   "metadata": {},
   "outputs": [
    {
     "name": "stdout",
     "output_type": "stream",
     "text": [
      "Collecting user_agents\n",
      "  Downloading user_agents-2.2.0-py3-none-any.whl.metadata (7.9 kB)\n",
      "Collecting ua-parser>=0.10.0 (from user_agents)\n",
      "  Downloading ua_parser-0.18.0-py2.py3-none-any.whl.metadata (1.4 kB)\n",
      "Downloading user_agents-2.2.0-py3-none-any.whl (9.6 kB)\n",
      "Downloading ua_parser-0.18.0-py2.py3-none-any.whl (38 kB)\n",
      "Installing collected packages: ua-parser, user_agents\n",
      "Successfully installed ua-parser-0.18.0 user_agents-2.2.0\n",
      "Note: you may need to restart the kernel to use updated packages.\n"
     ]
    }
   ],
   "source": [
    "pip install  user_agents "
   ]
  },
  {
   "cell_type": "code",
   "execution_count": 2,
   "metadata": {},
   "outputs": [],
   "source": [
    "\n",
    "import ibmos2spark\n",
    "from pyspark.sql.functions import when, col\n",
    "from user_agents import parse\n",
    "\n",
    "# @hidden_cell\n",
    "# The following code accesses a file in your IBM Cloud Object Storage. It includes your credentials.\n",
    "# You might want to remove those credentials before you share the notebook.\n",
    "\n",
    "metadata = {\n",
    "    'endpoint': 'https://s3.private.eu-de.cloud-object-storage.appdomain.cloud',\n",
    "    'service_id': 'iam-ServiceId-a68aae18-cd5f-45ab-a11b-18f696d65eeb',\n",
    "    'iam_service_endpoint': 'https://iam.cloud.ibm.com/oidc/token',\n",
    "    'api_key': 'InDQgyAfc__W1USg1lC2zxP2z8cri7Q4HFod7qj41mfW'\n",
    "}\n",
    "\n",
    "configuration_name = 'os_e0579951b09340a0a11d8223e2c6984c_configs'\n",
    "cos = ibmos2spark.CloudObjectStorage(sc, metadata, configuration_name, 'bluemix_cos')\n",
    "url = cos.url('medium-sparkify-event-data.json', 'testing-donotdelete-pr-icq1vyyplyxoym')\n",
    "\n",
    "# Since JSON data can be semi-structured and contain additional metadata, it is possible that you might face issues with the DataFrame layout.\n",
    "# Please read the documentation of 'SparkSession.read()' to learn more about the possibilities to adjust the data loading.\n",
    "# PySpark documentation: https://spark.apache.org/docs/3.3.1/api/python/reference/pyspark.sql/api/pyspark.sql.DataFrameReader.json.html#pyspark.sql.DataFrameReader.json\n",
    "\n",
    "# sp_df_1 = spark.read.json(url)\n",
    "# sp_df_1.show(10)\n",
    "\n"
   ]
  },
  {
   "cell_type": "code",
   "execution_count": 3,
   "metadata": {},
   "outputs": [
    {
     "name": "stdout",
     "output_type": "stream",
     "text": [
      "+-----------------+----------+---------+------+-------------+--------+---------+-----+--------------------+------+--------+-------------+---------+------------------+------+-------------+--------------------+------+\n",
      "|           artist|      auth|firstName|gender|itemInSession|lastName|   length|level|            location|method|    page| registration|sessionId|              song|status|           ts|           userAgent|userId|\n",
      "+-----------------+----------+---------+------+-------------+--------+---------+-----+--------------------+------+--------+-------------+---------+------------------+------+-------------+--------------------+------+\n",
      "|    Martin Orford| Logged In|   Joseph|     M|           20| Morales|597.55057| free|  Corpus Christi, TX|   PUT|NextSong|1532063507000|      292|     Grand Designs|   200|1538352011000|\"Mozilla/5.0 (Mac...|   293|\n",
      "|John Brown's Body| Logged In|   Sawyer|     M|           74|  Larson|380.21179| free|Houston-The Woodl...|   PUT|NextSong|1538069638000|       97|             Bulls|   200|1538352025000|\"Mozilla/5.0 (Mac...|    98|\n",
      "|          Afroman| Logged In| Maverick|     M|          184|Santiago|202.37016| paid|Orlando-Kissimmee...|   PUT|NextSong|1535953455000|      178|Because I Got High|   200|1538352118000|\"Mozilla/5.0 (Mac...|   179|\n",
      "|             null| Logged In| Maverick|     M|          185|Santiago|     null| paid|Orlando-Kissimmee...|   PUT|  Logout|1535953455000|      178|              null|   307|1538352119000|\"Mozilla/5.0 (Mac...|   179|\n",
      "|       Lily Allen| Logged In|   Gianna|     F|           22|  Campos|194.53342| paid|          Mobile, AL|   PUT|NextSong|1535931018000|      245|Smile (Radio Edit)|   200|1538352124000|Mozilla/5.0 (Wind...|   246|\n",
      "|       Carter USM| Logged In|    Sofia|     F|          266|  Gordon|138.29179| paid|       Rochester, MN|   PUT|NextSong|1533175710000|      162|     Airplane Food|   200|1538352125000|\"Mozilla/5.0 (Mac...|   163|\n",
      "|             null|Logged Out|     null|  null|          186|    null|     null| paid|                null|   GET|    Home|         null|      178|              null|   200|1538352148000|                null|      |\n",
      "|             null|Logged Out|     null|  null|          187|    null|     null| paid|                null|   GET|    Home|         null|      178|              null|   200|1538352151000|                null|      |\n",
      "|             null|Logged Out|     null|  null|          188|    null|     null| paid|                null|   GET|    Home|         null|      178|              null|   200|1538352168000|                null|      |\n",
      "|             null|Logged Out|     null|  null|          189|    null|     null| paid|                null|   PUT|   Login|         null|      178|              null|   307|1538352169000|                null|      |\n",
      "+-----------------+----------+---------+------+-------------+--------+---------+-----+--------------------+------+--------+-------------+---------+------------------+------+-------------+--------------------+------+\n",
      "only showing top 10 rows\n",
      "\n",
      "DONE\n"
     ]
    }
   ],
   "source": [
    "sp_df = spark.read.json(url)\n",
    "sp_df.show(10)\n",
    "print(\"DONE\")"
   ]
  },
  {
   "cell_type": "code",
   "execution_count": 4,
   "metadata": {},
   "outputs": [],
   "source": [
    "page_counts = sp_df.groupBy('page').count()"
   ]
  },
  {
   "cell_type": "code",
   "execution_count": 5,
   "metadata": {},
   "outputs": [
    {
     "name": "stdout",
     "output_type": "stream",
     "text": [
      "+--------------------+------+\n",
      "|                page| count|\n",
      "+--------------------+------+\n",
      "|              Cancel|    99|\n",
      "|    Submit Downgrade|   117|\n",
      "|         Thumbs Down|  4911|\n",
      "|                Home| 27412|\n",
      "|           Downgrade|  3811|\n",
      "|         Roll Advert|  7773|\n",
      "|              Logout|  5990|\n",
      "|       Save Settings|   585|\n",
      "|Cancellation Conf...|    99|\n",
      "|               About|  1855|\n",
      "| Submit Registration|     4|\n",
      "|            Settings|  2964|\n",
      "|               Login|  6011|\n",
      "|            Register|    11|\n",
      "|     Add to Playlist| 12349|\n",
      "|          Add Friend|  8087|\n",
      "|            NextSong|432877|\n",
      "|           Thumbs Up| 23826|\n",
      "|                Help|  3150|\n",
      "|             Upgrade|   968|\n",
      "+--------------------+------+\n",
      "only showing top 20 rows\n",
      "\n"
     ]
    }
   ],
   "source": [
    "page_counts.show()"
   ]
  },
  {
   "cell_type": "code",
   "execution_count": 6,
   "metadata": {},
   "outputs": [],
   "source": [
    "sp_df = sp_df.dropDuplicates()"
   ]
  },
  {
   "cell_type": "code",
   "execution_count": 7,
   "metadata": {},
   "outputs": [],
   "source": [
    "sp_df = sp_df.na.drop(subset=[\"userId\"])"
   ]
  },
  {
   "cell_type": "code",
   "execution_count": 8,
   "metadata": {},
   "outputs": [],
   "source": [
    "sp_df = sp_df.na.drop(subset=[\"sessionId\"])"
   ]
  },
  {
   "cell_type": "markdown",
   "metadata": {},
   "source": [
    "### Explore Data"
   ]
  },
  {
   "cell_type": "code",
   "execution_count": 9,
   "metadata": {},
   "outputs": [],
   "source": [
    "from pyspark.sql.functions import when, col\n",
    "test_pandas = sp_df.toPandas()"
   ]
  },
  {
   "cell_type": "code",
   "execution_count": 10,
   "metadata": {},
   "outputs": [
    {
     "data": {
      "text/html": [
       "<div>\n",
       "<style scoped>\n",
       "    .dataframe tbody tr th:only-of-type {\n",
       "        vertical-align: middle;\n",
       "    }\n",
       "\n",
       "    .dataframe tbody tr th {\n",
       "        vertical-align: top;\n",
       "    }\n",
       "\n",
       "    .dataframe thead th {\n",
       "        text-align: right;\n",
       "    }\n",
       "</style>\n",
       "<table border=\"1\" class=\"dataframe\">\n",
       "  <thead>\n",
       "    <tr style=\"text-align: right;\">\n",
       "      <th></th>\n",
       "      <th>artist</th>\n",
       "      <th>auth</th>\n",
       "      <th>firstName</th>\n",
       "      <th>gender</th>\n",
       "      <th>itemInSession</th>\n",
       "      <th>lastName</th>\n",
       "      <th>length</th>\n",
       "      <th>level</th>\n",
       "      <th>location</th>\n",
       "      <th>method</th>\n",
       "      <th>page</th>\n",
       "      <th>registration</th>\n",
       "      <th>sessionId</th>\n",
       "      <th>song</th>\n",
       "      <th>status</th>\n",
       "      <th>ts</th>\n",
       "      <th>userAgent</th>\n",
       "      <th>userId</th>\n",
       "    </tr>\n",
       "  </thead>\n",
       "  <tbody>\n",
       "    <tr>\n",
       "      <th>0</th>\n",
       "      <td>Yeah Yeah Yeahs</td>\n",
       "      <td>Logged In</td>\n",
       "      <td>Jaxon</td>\n",
       "      <td>M</td>\n",
       "      <td>528</td>\n",
       "      <td>Reilly</td>\n",
       "      <td>120.05832</td>\n",
       "      <td>paid</td>\n",
       "      <td>Jacksonville, FL</td>\n",
       "      <td>PUT</td>\n",
       "      <td>NextSong</td>\n",
       "      <td>1.531761e+12</td>\n",
       "      <td>3425</td>\n",
       "      <td>Pin</td>\n",
       "      <td>200</td>\n",
       "      <td>1541859494000</td>\n",
       "      <td>Mozilla/5.0 (Windows NT 6.1; WOW64; rv:31.0) G...</td>\n",
       "      <td>86</td>\n",
       "    </tr>\n",
       "    <tr>\n",
       "      <th>1</th>\n",
       "      <td>Vampire Weekend</td>\n",
       "      <td>Logged In</td>\n",
       "      <td>Sophia</td>\n",
       "      <td>F</td>\n",
       "      <td>60</td>\n",
       "      <td>Hunt</td>\n",
       "      <td>137.82159</td>\n",
       "      <td>paid</td>\n",
       "      <td>Billings, MT</td>\n",
       "      <td>PUT</td>\n",
       "      <td>NextSong</td>\n",
       "      <td>1.532498e+12</td>\n",
       "      <td>3450</td>\n",
       "      <td>A-Punk (Album)</td>\n",
       "      <td>200</td>\n",
       "      <td>1541866274000</td>\n",
       "      <td>\"Mozilla/5.0 (Windows NT 6.1) AppleWebKit/537....</td>\n",
       "      <td>104</td>\n",
       "    </tr>\n",
       "    <tr>\n",
       "      <th>2</th>\n",
       "      <td>None</td>\n",
       "      <td>Logged In</td>\n",
       "      <td>Arianna</td>\n",
       "      <td>F</td>\n",
       "      <td>68</td>\n",
       "      <td>Bullock</td>\n",
       "      <td>NaN</td>\n",
       "      <td>paid</td>\n",
       "      <td>Topeka, KS</td>\n",
       "      <td>PUT</td>\n",
       "      <td>Thumbs Up</td>\n",
       "      <td>1.538314e+12</td>\n",
       "      <td>3510</td>\n",
       "      <td>None</td>\n",
       "      <td>307</td>\n",
       "      <td>1541866438000</td>\n",
       "      <td>Mozilla/5.0 (Windows NT 6.3; WOW64; Trident/7....</td>\n",
       "      <td>283</td>\n",
       "    </tr>\n",
       "    <tr>\n",
       "      <th>3</th>\n",
       "      <td>Tom Petty</td>\n",
       "      <td>Logged In</td>\n",
       "      <td>Sophia</td>\n",
       "      <td>F</td>\n",
       "      <td>95</td>\n",
       "      <td>Hunt</td>\n",
       "      <td>289.43628</td>\n",
       "      <td>paid</td>\n",
       "      <td>Billings, MT</td>\n",
       "      <td>PUT</td>\n",
       "      <td>NextSong</td>\n",
       "      <td>1.532498e+12</td>\n",
       "      <td>3450</td>\n",
       "      <td>You Don't Know How It Feels (Album Version)</td>\n",
       "      <td>200</td>\n",
       "      <td>1541872508000</td>\n",
       "      <td>\"Mozilla/5.0 (Windows NT 6.1) AppleWebKit/537....</td>\n",
       "      <td>104</td>\n",
       "    </tr>\n",
       "    <tr>\n",
       "      <th>4</th>\n",
       "      <td>Charley Patton</td>\n",
       "      <td>Logged In</td>\n",
       "      <td>Julianna</td>\n",
       "      <td>F</td>\n",
       "      <td>26</td>\n",
       "      <td>Sanders</td>\n",
       "      <td>174.54975</td>\n",
       "      <td>free</td>\n",
       "      <td>Greenville-Anderson-Mauldin, SC</td>\n",
       "      <td>PUT</td>\n",
       "      <td>NextSong</td>\n",
       "      <td>1.538204e+12</td>\n",
       "      <td>2787</td>\n",
       "      <td>Jesus Is A-Dying (Bed Maker)</td>\n",
       "      <td>200</td>\n",
       "      <td>1541874856000</td>\n",
       "      <td>\"Mozilla/5.0 (Macintosh; Intel Mac OS X 10_9_4...</td>\n",
       "      <td>240</td>\n",
       "    </tr>\n",
       "    <tr>\n",
       "      <th>...</th>\n",
       "      <td>...</td>\n",
       "      <td>...</td>\n",
       "      <td>...</td>\n",
       "      <td>...</td>\n",
       "      <td>...</td>\n",
       "      <td>...</td>\n",
       "      <td>...</td>\n",
       "      <td>...</td>\n",
       "      <td>...</td>\n",
       "      <td>...</td>\n",
       "      <td>...</td>\n",
       "      <td>...</td>\n",
       "      <td>...</td>\n",
       "      <td>...</td>\n",
       "      <td>...</td>\n",
       "      <td>...</td>\n",
       "      <td>...</td>\n",
       "      <td>...</td>\n",
       "    </tr>\n",
       "    <tr>\n",
       "      <th>543700</th>\n",
       "      <td>Franz Ferdinand</td>\n",
       "      <td>Logged In</td>\n",
       "      <td>Jose</td>\n",
       "      <td>M</td>\n",
       "      <td>16</td>\n",
       "      <td>Martin</td>\n",
       "      <td>225.48853</td>\n",
       "      <td>paid</td>\n",
       "      <td>New York-Newark-Jersey City, NY-NJ-PA</td>\n",
       "      <td>PUT</td>\n",
       "      <td>NextSong</td>\n",
       "      <td>1.535800e+12</td>\n",
       "      <td>997</td>\n",
       "      <td>Backwards On My Face</td>\n",
       "      <td>200</td>\n",
       "      <td>1543581679000</td>\n",
       "      <td>Mozilla/5.0 (compatible; MSIE 10.0; Windows NT...</td>\n",
       "      <td>300031</td>\n",
       "    </tr>\n",
       "    <tr>\n",
       "      <th>543701</th>\n",
       "      <td>None</td>\n",
       "      <td>Logged In</td>\n",
       "      <td>Daniel</td>\n",
       "      <td>M</td>\n",
       "      <td>19</td>\n",
       "      <td>Stewart</td>\n",
       "      <td>NaN</td>\n",
       "      <td>paid</td>\n",
       "      <td>Fresno, CA</td>\n",
       "      <td>GET</td>\n",
       "      <td>Home</td>\n",
       "      <td>1.537523e+12</td>\n",
       "      <td>991</td>\n",
       "      <td>None</td>\n",
       "      <td>200</td>\n",
       "      <td>1543596429000</td>\n",
       "      <td>\"Mozilla/5.0 (Windows NT 6.1; WOW64) AppleWebK...</td>\n",
       "      <td>300049</td>\n",
       "    </tr>\n",
       "    <tr>\n",
       "      <th>543702</th>\n",
       "      <td>Carcass</td>\n",
       "      <td>Logged In</td>\n",
       "      <td>Joshua</td>\n",
       "      <td>M</td>\n",
       "      <td>82</td>\n",
       "      <td>White</td>\n",
       "      <td>245.08036</td>\n",
       "      <td>paid</td>\n",
       "      <td>San Antonio-New Braunfels, TX</td>\n",
       "      <td>PUT</td>\n",
       "      <td>NextSong</td>\n",
       "      <td>1.528781e+12</td>\n",
       "      <td>981</td>\n",
       "      <td>Buried Dreams</td>\n",
       "      <td>200</td>\n",
       "      <td>1543615704000</td>\n",
       "      <td>\"Mozilla/5.0 (iPhone; CPU iPhone OS 7_1_2 like...</td>\n",
       "      <td>300015</td>\n",
       "    </tr>\n",
       "    <tr>\n",
       "      <th>543703</th>\n",
       "      <td>Saul Williams</td>\n",
       "      <td>Logged In</td>\n",
       "      <td>Daniel</td>\n",
       "      <td>M</td>\n",
       "      <td>127</td>\n",
       "      <td>Stewart</td>\n",
       "      <td>198.37342</td>\n",
       "      <td>paid</td>\n",
       "      <td>Fresno, CA</td>\n",
       "      <td>PUT</td>\n",
       "      <td>NextSong</td>\n",
       "      <td>1.537523e+12</td>\n",
       "      <td>991</td>\n",
       "      <td>List Of Demands (Reparations)</td>\n",
       "      <td>200</td>\n",
       "      <td>1543619350000</td>\n",
       "      <td>\"Mozilla/5.0 (Windows NT 6.1; WOW64) AppleWebK...</td>\n",
       "      <td>300049</td>\n",
       "    </tr>\n",
       "    <tr>\n",
       "      <th>543704</th>\n",
       "      <td>Taylor Swift</td>\n",
       "      <td>Logged In</td>\n",
       "      <td>Aiden</td>\n",
       "      <td>M</td>\n",
       "      <td>30</td>\n",
       "      <td>Reed</td>\n",
       "      <td>280.03220</td>\n",
       "      <td>paid</td>\n",
       "      <td>Lakeland-Winter Haven, FL</td>\n",
       "      <td>PUT</td>\n",
       "      <td>NextSong</td>\n",
       "      <td>1.535616e+12</td>\n",
       "      <td>966</td>\n",
       "      <td>Change</td>\n",
       "      <td>200</td>\n",
       "      <td>1543621208000</td>\n",
       "      <td>\"Mozilla/5.0 (iPhone; CPU iPhone OS 7_1_2 like...</td>\n",
       "      <td>300038</td>\n",
       "    </tr>\n",
       "  </tbody>\n",
       "</table>\n",
       "<p>543705 rows × 18 columns</p>\n",
       "</div>"
      ],
      "text/plain": [
       "                 artist       auth firstName gender  itemInSession lastName  \\\n",
       "0       Yeah Yeah Yeahs  Logged In     Jaxon      M            528   Reilly   \n",
       "1       Vampire Weekend  Logged In    Sophia      F             60     Hunt   \n",
       "2                  None  Logged In   Arianna      F             68  Bullock   \n",
       "3             Tom Petty  Logged In    Sophia      F             95     Hunt   \n",
       "4        Charley Patton  Logged In  Julianna      F             26  Sanders   \n",
       "...                 ...        ...       ...    ...            ...      ...   \n",
       "543700  Franz Ferdinand  Logged In      Jose      M             16   Martin   \n",
       "543701             None  Logged In    Daniel      M             19  Stewart   \n",
       "543702          Carcass  Logged In    Joshua      M             82    White   \n",
       "543703    Saul Williams  Logged In    Daniel      M            127  Stewart   \n",
       "543704     Taylor Swift  Logged In     Aiden      M             30     Reed   \n",
       "\n",
       "           length level                               location method  \\\n",
       "0       120.05832  paid                       Jacksonville, FL    PUT   \n",
       "1       137.82159  paid                           Billings, MT    PUT   \n",
       "2             NaN  paid                             Topeka, KS    PUT   \n",
       "3       289.43628  paid                           Billings, MT    PUT   \n",
       "4       174.54975  free        Greenville-Anderson-Mauldin, SC    PUT   \n",
       "...           ...   ...                                    ...    ...   \n",
       "543700  225.48853  paid  New York-Newark-Jersey City, NY-NJ-PA    PUT   \n",
       "543701        NaN  paid                             Fresno, CA    GET   \n",
       "543702  245.08036  paid          San Antonio-New Braunfels, TX    PUT   \n",
       "543703  198.37342  paid                             Fresno, CA    PUT   \n",
       "543704  280.03220  paid              Lakeland-Winter Haven, FL    PUT   \n",
       "\n",
       "             page  registration  sessionId  \\\n",
       "0        NextSong  1.531761e+12       3425   \n",
       "1        NextSong  1.532498e+12       3450   \n",
       "2       Thumbs Up  1.538314e+12       3510   \n",
       "3        NextSong  1.532498e+12       3450   \n",
       "4        NextSong  1.538204e+12       2787   \n",
       "...           ...           ...        ...   \n",
       "543700   NextSong  1.535800e+12        997   \n",
       "543701       Home  1.537523e+12        991   \n",
       "543702   NextSong  1.528781e+12        981   \n",
       "543703   NextSong  1.537523e+12        991   \n",
       "543704   NextSong  1.535616e+12        966   \n",
       "\n",
       "                                               song  status             ts  \\\n",
       "0                                               Pin     200  1541859494000   \n",
       "1                                    A-Punk (Album)     200  1541866274000   \n",
       "2                                              None     307  1541866438000   \n",
       "3       You Don't Know How It Feels (Album Version)     200  1541872508000   \n",
       "4                      Jesus Is A-Dying (Bed Maker)     200  1541874856000   \n",
       "...                                             ...     ...            ...   \n",
       "543700                         Backwards On My Face     200  1543581679000   \n",
       "543701                                         None     200  1543596429000   \n",
       "543702                                Buried Dreams     200  1543615704000   \n",
       "543703                List Of Demands (Reparations)     200  1543619350000   \n",
       "543704                                       Change     200  1543621208000   \n",
       "\n",
       "                                                userAgent  userId  \n",
       "0       Mozilla/5.0 (Windows NT 6.1; WOW64; rv:31.0) G...      86  \n",
       "1       \"Mozilla/5.0 (Windows NT 6.1) AppleWebKit/537....     104  \n",
       "2       Mozilla/5.0 (Windows NT 6.3; WOW64; Trident/7....     283  \n",
       "3       \"Mozilla/5.0 (Windows NT 6.1) AppleWebKit/537....     104  \n",
       "4       \"Mozilla/5.0 (Macintosh; Intel Mac OS X 10_9_4...     240  \n",
       "...                                                   ...     ...  \n",
       "543700  Mozilla/5.0 (compatible; MSIE 10.0; Windows NT...  300031  \n",
       "543701  \"Mozilla/5.0 (Windows NT 6.1; WOW64) AppleWebK...  300049  \n",
       "543702  \"Mozilla/5.0 (iPhone; CPU iPhone OS 7_1_2 like...  300015  \n",
       "543703  \"Mozilla/5.0 (Windows NT 6.1; WOW64) AppleWebK...  300049  \n",
       "543704  \"Mozilla/5.0 (iPhone; CPU iPhone OS 7_1_2 like...  300038  \n",
       "\n",
       "[543705 rows x 18 columns]"
      ]
     },
     "execution_count": 10,
     "metadata": {},
     "output_type": "execute_result"
    }
   ],
   "source": [
    "test_pandas"
   ]
  },
  {
   "cell_type": "code",
   "execution_count": 11,
   "metadata": {},
   "outputs": [
    {
     "data": {
      "text/html": [
       "<div>\n",
       "<style scoped>\n",
       "    .dataframe tbody tr th:only-of-type {\n",
       "        vertical-align: middle;\n",
       "    }\n",
       "\n",
       "    .dataframe tbody tr th {\n",
       "        vertical-align: top;\n",
       "    }\n",
       "\n",
       "    .dataframe thead th {\n",
       "        text-align: right;\n",
       "    }\n",
       "</style>\n",
       "<table border=\"1\" class=\"dataframe\">\n",
       "  <thead>\n",
       "    <tr style=\"text-align: right;\">\n",
       "      <th></th>\n",
       "      <th>artist</th>\n",
       "      <th>auth</th>\n",
       "      <th>firstName</th>\n",
       "      <th>gender</th>\n",
       "      <th>itemInSession</th>\n",
       "      <th>lastName</th>\n",
       "      <th>length</th>\n",
       "      <th>level</th>\n",
       "      <th>location</th>\n",
       "      <th>method</th>\n",
       "      <th>page</th>\n",
       "      <th>registration</th>\n",
       "      <th>sessionId</th>\n",
       "      <th>song</th>\n",
       "      <th>status</th>\n",
       "      <th>ts</th>\n",
       "      <th>userAgent</th>\n",
       "      <th>userId</th>\n",
       "    </tr>\n",
       "  </thead>\n",
       "  <tbody>\n",
       "    <tr>\n",
       "      <th>3344</th>\n",
       "      <td>None</td>\n",
       "      <td>Cancelled</td>\n",
       "      <td>Nevaeh</td>\n",
       "      <td>F</td>\n",
       "      <td>31</td>\n",
       "      <td>Jones</td>\n",
       "      <td>NaN</td>\n",
       "      <td>paid</td>\n",
       "      <td>Miami-Fort Lauderdale-West Palm Beach, FL</td>\n",
       "      <td>GET</td>\n",
       "      <td>Cancellation Confirmation</td>\n",
       "      <td>1.537309e+12</td>\n",
       "      <td>339</td>\n",
       "      <td>None</td>\n",
       "      <td>200</td>\n",
       "      <td>1541661592000</td>\n",
       "      <td>Mozilla/5.0 (Windows NT 6.1; WOW64; rv:31.0) G...</td>\n",
       "      <td>100003</td>\n",
       "    </tr>\n",
       "    <tr>\n",
       "      <th>4606</th>\n",
       "      <td>None</td>\n",
       "      <td>Cancelled</td>\n",
       "      <td>Cali</td>\n",
       "      <td>F</td>\n",
       "      <td>26</td>\n",
       "      <td>Brown</td>\n",
       "      <td>NaN</td>\n",
       "      <td>free</td>\n",
       "      <td>Cleveland-Elyria, OH</td>\n",
       "      <td>GET</td>\n",
       "      <td>Cancellation Confirmation</td>\n",
       "      <td>1.537368e+12</td>\n",
       "      <td>13</td>\n",
       "      <td>None</td>\n",
       "      <td>200</td>\n",
       "      <td>1538507591000</td>\n",
       "      <td>\"Mozilla/5.0 (Windows NT 6.1) AppleWebKit/537....</td>\n",
       "      <td>100013</td>\n",
       "    </tr>\n",
       "    <tr>\n",
       "      <th>6054</th>\n",
       "      <td>None</td>\n",
       "      <td>Cancelled</td>\n",
       "      <td>Sebastian</td>\n",
       "      <td>M</td>\n",
       "      <td>155</td>\n",
       "      <td>Ball</td>\n",
       "      <td>NaN</td>\n",
       "      <td>paid</td>\n",
       "      <td>Albany, OR</td>\n",
       "      <td>GET</td>\n",
       "      <td>Cancellation Confirmation</td>\n",
       "      <td>1.537971e+12</td>\n",
       "      <td>375</td>\n",
       "      <td>None</td>\n",
       "      <td>200</td>\n",
       "      <td>1542839733000</td>\n",
       "      <td>Mozilla/5.0 (Windows NT 6.1; WOW64; rv:31.0) G...</td>\n",
       "      <td>100011</td>\n",
       "    </tr>\n",
       "    <tr>\n",
       "      <th>9426</th>\n",
       "      <td>None</td>\n",
       "      <td>Cancelled</td>\n",
       "      <td>Cynthia</td>\n",
       "      <td>F</td>\n",
       "      <td>103</td>\n",
       "      <td>Krause</td>\n",
       "      <td>NaN</td>\n",
       "      <td>free</td>\n",
       "      <td>Allentown-Bethlehem-Easton, PA-NJ</td>\n",
       "      <td>GET</td>\n",
       "      <td>Cancellation Confirmation</td>\n",
       "      <td>1.534392e+12</td>\n",
       "      <td>3808</td>\n",
       "      <td>None</td>\n",
       "      <td>200</td>\n",
       "      <td>1542268661000</td>\n",
       "      <td>\"Mozilla/5.0 (X11; Linux x86_64) AppleWebKit/5...</td>\n",
       "      <td>265</td>\n",
       "    </tr>\n",
       "    <tr>\n",
       "      <th>9912</th>\n",
       "      <td>None</td>\n",
       "      <td>Cancelled</td>\n",
       "      <td>Lucero</td>\n",
       "      <td>F</td>\n",
       "      <td>25</td>\n",
       "      <td>Reed</td>\n",
       "      <td>NaN</td>\n",
       "      <td>free</td>\n",
       "      <td>Louisville/Jefferson County, KY-IN</td>\n",
       "      <td>GET</td>\n",
       "      <td>Cancellation Confirmation</td>\n",
       "      <td>1.536642e+12</td>\n",
       "      <td>4766</td>\n",
       "      <td>None</td>\n",
       "      <td>200</td>\n",
       "      <td>1543583107000</td>\n",
       "      <td>\"Mozilla/5.0 (Windows NT 6.1; WOW64) AppleWebK...</td>\n",
       "      <td>140</td>\n",
       "    </tr>\n",
       "  </tbody>\n",
       "</table>\n",
       "</div>"
      ],
      "text/plain": [
       "     artist       auth  firstName gender  itemInSession lastName  length  \\\n",
       "3344   None  Cancelled     Nevaeh      F             31    Jones     NaN   \n",
       "4606   None  Cancelled       Cali      F             26    Brown     NaN   \n",
       "6054   None  Cancelled  Sebastian      M            155     Ball     NaN   \n",
       "9426   None  Cancelled    Cynthia      F            103   Krause     NaN   \n",
       "9912   None  Cancelled     Lucero      F             25     Reed     NaN   \n",
       "\n",
       "     level                                   location method  \\\n",
       "3344  paid  Miami-Fort Lauderdale-West Palm Beach, FL    GET   \n",
       "4606  free                       Cleveland-Elyria, OH    GET   \n",
       "6054  paid                                 Albany, OR    GET   \n",
       "9426  free          Allentown-Bethlehem-Easton, PA-NJ    GET   \n",
       "9912  free         Louisville/Jefferson County, KY-IN    GET   \n",
       "\n",
       "                           page  registration  sessionId  song  status  \\\n",
       "3344  Cancellation Confirmation  1.537309e+12        339  None     200   \n",
       "4606  Cancellation Confirmation  1.537368e+12         13  None     200   \n",
       "6054  Cancellation Confirmation  1.537971e+12        375  None     200   \n",
       "9426  Cancellation Confirmation  1.534392e+12       3808  None     200   \n",
       "9912  Cancellation Confirmation  1.536642e+12       4766  None     200   \n",
       "\n",
       "                 ts                                          userAgent  userId  \n",
       "3344  1541661592000  Mozilla/5.0 (Windows NT 6.1; WOW64; rv:31.0) G...  100003  \n",
       "4606  1538507591000  \"Mozilla/5.0 (Windows NT 6.1) AppleWebKit/537....  100013  \n",
       "6054  1542839733000  Mozilla/5.0 (Windows NT 6.1; WOW64; rv:31.0) G...  100011  \n",
       "9426  1542268661000  \"Mozilla/5.0 (X11; Linux x86_64) AppleWebKit/5...     265  \n",
       "9912  1543583107000  \"Mozilla/5.0 (Windows NT 6.1; WOW64) AppleWebK...     140  "
      ]
     },
     "execution_count": 11,
     "metadata": {},
     "output_type": "execute_result"
    }
   ],
   "source": [
    "test_pandas_p2 = test_pandas[test_pandas['page'] == 'Cancellation Confirmation']\n",
    "# Display the filtered DataFrame\n",
    "test_pandas_p2.head()"
   ]
  },
  {
   "cell_type": "code",
   "execution_count": 12,
   "metadata": {},
   "outputs": [],
   "source": [
    "test_pandas['churn'] = test_pandas.apply(lambda row: 1 if row['page'] == 'Cancellation Confirmation' else 0, axis=1)"
   ]
  },
  {
   "cell_type": "code",
   "execution_count": 13,
   "metadata": {},
   "outputs": [
    {
     "data": {
      "text/html": [
       "<div>\n",
       "<style scoped>\n",
       "    .dataframe tbody tr th:only-of-type {\n",
       "        vertical-align: middle;\n",
       "    }\n",
       "\n",
       "    .dataframe tbody tr th {\n",
       "        vertical-align: top;\n",
       "    }\n",
       "\n",
       "    .dataframe thead th {\n",
       "        text-align: right;\n",
       "    }\n",
       "</style>\n",
       "<table border=\"1\" class=\"dataframe\">\n",
       "  <thead>\n",
       "    <tr style=\"text-align: right;\">\n",
       "      <th></th>\n",
       "      <th>artist</th>\n",
       "      <th>auth</th>\n",
       "      <th>firstName</th>\n",
       "      <th>gender</th>\n",
       "      <th>itemInSession</th>\n",
       "      <th>lastName</th>\n",
       "      <th>length</th>\n",
       "      <th>level</th>\n",
       "      <th>location</th>\n",
       "      <th>method</th>\n",
       "      <th>page</th>\n",
       "      <th>registration</th>\n",
       "      <th>sessionId</th>\n",
       "      <th>song</th>\n",
       "      <th>status</th>\n",
       "      <th>ts</th>\n",
       "      <th>userAgent</th>\n",
       "      <th>userId</th>\n",
       "      <th>churn</th>\n",
       "    </tr>\n",
       "  </thead>\n",
       "  <tbody>\n",
       "    <tr>\n",
       "      <th>0</th>\n",
       "      <td>Yeah Yeah Yeahs</td>\n",
       "      <td>Logged In</td>\n",
       "      <td>Jaxon</td>\n",
       "      <td>M</td>\n",
       "      <td>528</td>\n",
       "      <td>Reilly</td>\n",
       "      <td>120.05832</td>\n",
       "      <td>paid</td>\n",
       "      <td>Jacksonville, FL</td>\n",
       "      <td>PUT</td>\n",
       "      <td>NextSong</td>\n",
       "      <td>1.531761e+12</td>\n",
       "      <td>3425</td>\n",
       "      <td>Pin</td>\n",
       "      <td>200</td>\n",
       "      <td>1541859494000</td>\n",
       "      <td>Mozilla/5.0 (Windows NT 6.1; WOW64; rv:31.0) G...</td>\n",
       "      <td>86</td>\n",
       "      <td>0</td>\n",
       "    </tr>\n",
       "    <tr>\n",
       "      <th>1</th>\n",
       "      <td>Vampire Weekend</td>\n",
       "      <td>Logged In</td>\n",
       "      <td>Sophia</td>\n",
       "      <td>F</td>\n",
       "      <td>60</td>\n",
       "      <td>Hunt</td>\n",
       "      <td>137.82159</td>\n",
       "      <td>paid</td>\n",
       "      <td>Billings, MT</td>\n",
       "      <td>PUT</td>\n",
       "      <td>NextSong</td>\n",
       "      <td>1.532498e+12</td>\n",
       "      <td>3450</td>\n",
       "      <td>A-Punk (Album)</td>\n",
       "      <td>200</td>\n",
       "      <td>1541866274000</td>\n",
       "      <td>\"Mozilla/5.0 (Windows NT 6.1) AppleWebKit/537....</td>\n",
       "      <td>104</td>\n",
       "      <td>0</td>\n",
       "    </tr>\n",
       "    <tr>\n",
       "      <th>2</th>\n",
       "      <td>None</td>\n",
       "      <td>Logged In</td>\n",
       "      <td>Arianna</td>\n",
       "      <td>F</td>\n",
       "      <td>68</td>\n",
       "      <td>Bullock</td>\n",
       "      <td>NaN</td>\n",
       "      <td>paid</td>\n",
       "      <td>Topeka, KS</td>\n",
       "      <td>PUT</td>\n",
       "      <td>Thumbs Up</td>\n",
       "      <td>1.538314e+12</td>\n",
       "      <td>3510</td>\n",
       "      <td>None</td>\n",
       "      <td>307</td>\n",
       "      <td>1541866438000</td>\n",
       "      <td>Mozilla/5.0 (Windows NT 6.3; WOW64; Trident/7....</td>\n",
       "      <td>283</td>\n",
       "      <td>0</td>\n",
       "    </tr>\n",
       "    <tr>\n",
       "      <th>3</th>\n",
       "      <td>Tom Petty</td>\n",
       "      <td>Logged In</td>\n",
       "      <td>Sophia</td>\n",
       "      <td>F</td>\n",
       "      <td>95</td>\n",
       "      <td>Hunt</td>\n",
       "      <td>289.43628</td>\n",
       "      <td>paid</td>\n",
       "      <td>Billings, MT</td>\n",
       "      <td>PUT</td>\n",
       "      <td>NextSong</td>\n",
       "      <td>1.532498e+12</td>\n",
       "      <td>3450</td>\n",
       "      <td>You Don't Know How It Feels (Album Version)</td>\n",
       "      <td>200</td>\n",
       "      <td>1541872508000</td>\n",
       "      <td>\"Mozilla/5.0 (Windows NT 6.1) AppleWebKit/537....</td>\n",
       "      <td>104</td>\n",
       "      <td>0</td>\n",
       "    </tr>\n",
       "    <tr>\n",
       "      <th>4</th>\n",
       "      <td>Charley Patton</td>\n",
       "      <td>Logged In</td>\n",
       "      <td>Julianna</td>\n",
       "      <td>F</td>\n",
       "      <td>26</td>\n",
       "      <td>Sanders</td>\n",
       "      <td>174.54975</td>\n",
       "      <td>free</td>\n",
       "      <td>Greenville-Anderson-Mauldin, SC</td>\n",
       "      <td>PUT</td>\n",
       "      <td>NextSong</td>\n",
       "      <td>1.538204e+12</td>\n",
       "      <td>2787</td>\n",
       "      <td>Jesus Is A-Dying (Bed Maker)</td>\n",
       "      <td>200</td>\n",
       "      <td>1541874856000</td>\n",
       "      <td>\"Mozilla/5.0 (Macintosh; Intel Mac OS X 10_9_4...</td>\n",
       "      <td>240</td>\n",
       "      <td>0</td>\n",
       "    </tr>\n",
       "    <tr>\n",
       "      <th>...</th>\n",
       "      <td>...</td>\n",
       "      <td>...</td>\n",
       "      <td>...</td>\n",
       "      <td>...</td>\n",
       "      <td>...</td>\n",
       "      <td>...</td>\n",
       "      <td>...</td>\n",
       "      <td>...</td>\n",
       "      <td>...</td>\n",
       "      <td>...</td>\n",
       "      <td>...</td>\n",
       "      <td>...</td>\n",
       "      <td>...</td>\n",
       "      <td>...</td>\n",
       "      <td>...</td>\n",
       "      <td>...</td>\n",
       "      <td>...</td>\n",
       "      <td>...</td>\n",
       "      <td>...</td>\n",
       "    </tr>\n",
       "    <tr>\n",
       "      <th>543700</th>\n",
       "      <td>Franz Ferdinand</td>\n",
       "      <td>Logged In</td>\n",
       "      <td>Jose</td>\n",
       "      <td>M</td>\n",
       "      <td>16</td>\n",
       "      <td>Martin</td>\n",
       "      <td>225.48853</td>\n",
       "      <td>paid</td>\n",
       "      <td>New York-Newark-Jersey City, NY-NJ-PA</td>\n",
       "      <td>PUT</td>\n",
       "      <td>NextSong</td>\n",
       "      <td>1.535800e+12</td>\n",
       "      <td>997</td>\n",
       "      <td>Backwards On My Face</td>\n",
       "      <td>200</td>\n",
       "      <td>1543581679000</td>\n",
       "      <td>Mozilla/5.0 (compatible; MSIE 10.0; Windows NT...</td>\n",
       "      <td>300031</td>\n",
       "      <td>0</td>\n",
       "    </tr>\n",
       "    <tr>\n",
       "      <th>543701</th>\n",
       "      <td>None</td>\n",
       "      <td>Logged In</td>\n",
       "      <td>Daniel</td>\n",
       "      <td>M</td>\n",
       "      <td>19</td>\n",
       "      <td>Stewart</td>\n",
       "      <td>NaN</td>\n",
       "      <td>paid</td>\n",
       "      <td>Fresno, CA</td>\n",
       "      <td>GET</td>\n",
       "      <td>Home</td>\n",
       "      <td>1.537523e+12</td>\n",
       "      <td>991</td>\n",
       "      <td>None</td>\n",
       "      <td>200</td>\n",
       "      <td>1543596429000</td>\n",
       "      <td>\"Mozilla/5.0 (Windows NT 6.1; WOW64) AppleWebK...</td>\n",
       "      <td>300049</td>\n",
       "      <td>0</td>\n",
       "    </tr>\n",
       "    <tr>\n",
       "      <th>543702</th>\n",
       "      <td>Carcass</td>\n",
       "      <td>Logged In</td>\n",
       "      <td>Joshua</td>\n",
       "      <td>M</td>\n",
       "      <td>82</td>\n",
       "      <td>White</td>\n",
       "      <td>245.08036</td>\n",
       "      <td>paid</td>\n",
       "      <td>San Antonio-New Braunfels, TX</td>\n",
       "      <td>PUT</td>\n",
       "      <td>NextSong</td>\n",
       "      <td>1.528781e+12</td>\n",
       "      <td>981</td>\n",
       "      <td>Buried Dreams</td>\n",
       "      <td>200</td>\n",
       "      <td>1543615704000</td>\n",
       "      <td>\"Mozilla/5.0 (iPhone; CPU iPhone OS 7_1_2 like...</td>\n",
       "      <td>300015</td>\n",
       "      <td>0</td>\n",
       "    </tr>\n",
       "    <tr>\n",
       "      <th>543703</th>\n",
       "      <td>Saul Williams</td>\n",
       "      <td>Logged In</td>\n",
       "      <td>Daniel</td>\n",
       "      <td>M</td>\n",
       "      <td>127</td>\n",
       "      <td>Stewart</td>\n",
       "      <td>198.37342</td>\n",
       "      <td>paid</td>\n",
       "      <td>Fresno, CA</td>\n",
       "      <td>PUT</td>\n",
       "      <td>NextSong</td>\n",
       "      <td>1.537523e+12</td>\n",
       "      <td>991</td>\n",
       "      <td>List Of Demands (Reparations)</td>\n",
       "      <td>200</td>\n",
       "      <td>1543619350000</td>\n",
       "      <td>\"Mozilla/5.0 (Windows NT 6.1; WOW64) AppleWebK...</td>\n",
       "      <td>300049</td>\n",
       "      <td>0</td>\n",
       "    </tr>\n",
       "    <tr>\n",
       "      <th>543704</th>\n",
       "      <td>Taylor Swift</td>\n",
       "      <td>Logged In</td>\n",
       "      <td>Aiden</td>\n",
       "      <td>M</td>\n",
       "      <td>30</td>\n",
       "      <td>Reed</td>\n",
       "      <td>280.03220</td>\n",
       "      <td>paid</td>\n",
       "      <td>Lakeland-Winter Haven, FL</td>\n",
       "      <td>PUT</td>\n",
       "      <td>NextSong</td>\n",
       "      <td>1.535616e+12</td>\n",
       "      <td>966</td>\n",
       "      <td>Change</td>\n",
       "      <td>200</td>\n",
       "      <td>1543621208000</td>\n",
       "      <td>\"Mozilla/5.0 (iPhone; CPU iPhone OS 7_1_2 like...</td>\n",
       "      <td>300038</td>\n",
       "      <td>0</td>\n",
       "    </tr>\n",
       "  </tbody>\n",
       "</table>\n",
       "<p>543705 rows × 19 columns</p>\n",
       "</div>"
      ],
      "text/plain": [
       "                 artist       auth firstName gender  itemInSession lastName  \\\n",
       "0       Yeah Yeah Yeahs  Logged In     Jaxon      M            528   Reilly   \n",
       "1       Vampire Weekend  Logged In    Sophia      F             60     Hunt   \n",
       "2                  None  Logged In   Arianna      F             68  Bullock   \n",
       "3             Tom Petty  Logged In    Sophia      F             95     Hunt   \n",
       "4        Charley Patton  Logged In  Julianna      F             26  Sanders   \n",
       "...                 ...        ...       ...    ...            ...      ...   \n",
       "543700  Franz Ferdinand  Logged In      Jose      M             16   Martin   \n",
       "543701             None  Logged In    Daniel      M             19  Stewart   \n",
       "543702          Carcass  Logged In    Joshua      M             82    White   \n",
       "543703    Saul Williams  Logged In    Daniel      M            127  Stewart   \n",
       "543704     Taylor Swift  Logged In     Aiden      M             30     Reed   \n",
       "\n",
       "           length level                               location method  \\\n",
       "0       120.05832  paid                       Jacksonville, FL    PUT   \n",
       "1       137.82159  paid                           Billings, MT    PUT   \n",
       "2             NaN  paid                             Topeka, KS    PUT   \n",
       "3       289.43628  paid                           Billings, MT    PUT   \n",
       "4       174.54975  free        Greenville-Anderson-Mauldin, SC    PUT   \n",
       "...           ...   ...                                    ...    ...   \n",
       "543700  225.48853  paid  New York-Newark-Jersey City, NY-NJ-PA    PUT   \n",
       "543701        NaN  paid                             Fresno, CA    GET   \n",
       "543702  245.08036  paid          San Antonio-New Braunfels, TX    PUT   \n",
       "543703  198.37342  paid                             Fresno, CA    PUT   \n",
       "543704  280.03220  paid              Lakeland-Winter Haven, FL    PUT   \n",
       "\n",
       "             page  registration  sessionId  \\\n",
       "0        NextSong  1.531761e+12       3425   \n",
       "1        NextSong  1.532498e+12       3450   \n",
       "2       Thumbs Up  1.538314e+12       3510   \n",
       "3        NextSong  1.532498e+12       3450   \n",
       "4        NextSong  1.538204e+12       2787   \n",
       "...           ...           ...        ...   \n",
       "543700   NextSong  1.535800e+12        997   \n",
       "543701       Home  1.537523e+12        991   \n",
       "543702   NextSong  1.528781e+12        981   \n",
       "543703   NextSong  1.537523e+12        991   \n",
       "543704   NextSong  1.535616e+12        966   \n",
       "\n",
       "                                               song  status             ts  \\\n",
       "0                                               Pin     200  1541859494000   \n",
       "1                                    A-Punk (Album)     200  1541866274000   \n",
       "2                                              None     307  1541866438000   \n",
       "3       You Don't Know How It Feels (Album Version)     200  1541872508000   \n",
       "4                      Jesus Is A-Dying (Bed Maker)     200  1541874856000   \n",
       "...                                             ...     ...            ...   \n",
       "543700                         Backwards On My Face     200  1543581679000   \n",
       "543701                                         None     200  1543596429000   \n",
       "543702                                Buried Dreams     200  1543615704000   \n",
       "543703                List Of Demands (Reparations)     200  1543619350000   \n",
       "543704                                       Change     200  1543621208000   \n",
       "\n",
       "                                                userAgent  userId  churn  \n",
       "0       Mozilla/5.0 (Windows NT 6.1; WOW64; rv:31.0) G...      86      0  \n",
       "1       \"Mozilla/5.0 (Windows NT 6.1) AppleWebKit/537....     104      0  \n",
       "2       Mozilla/5.0 (Windows NT 6.3; WOW64; Trident/7....     283      0  \n",
       "3       \"Mozilla/5.0 (Windows NT 6.1) AppleWebKit/537....     104      0  \n",
       "4       \"Mozilla/5.0 (Macintosh; Intel Mac OS X 10_9_4...     240      0  \n",
       "...                                                   ...     ...    ...  \n",
       "543700  Mozilla/5.0 (compatible; MSIE 10.0; Windows NT...  300031      0  \n",
       "543701  \"Mozilla/5.0 (Windows NT 6.1; WOW64) AppleWebK...  300049      0  \n",
       "543702  \"Mozilla/5.0 (iPhone; CPU iPhone OS 7_1_2 like...  300015      0  \n",
       "543703  \"Mozilla/5.0 (Windows NT 6.1; WOW64) AppleWebK...  300049      0  \n",
       "543704  \"Mozilla/5.0 (iPhone; CPU iPhone OS 7_1_2 like...  300038      0  \n",
       "\n",
       "[543705 rows x 19 columns]"
      ]
     },
     "execution_count": 13,
     "metadata": {},
     "output_type": "execute_result"
    }
   ],
   "source": [
    "test_pandas"
   ]
  },
  {
   "cell_type": "code",
   "execution_count": 14,
   "metadata": {},
   "outputs": [],
   "source": [
    "\n",
    "\n",
    "def extract_state(location):\n",
    "    parts = location.split(', ')\n",
    "    if len(parts) > 1:\n",
    "        return parts[-1]\n",
    "    else:\n",
    "        return None\n",
    " \n",
    "    \n",
    "test_pandas['location'] = test_pandas['location'].astype(str)\n",
    "# Apply transformation to create 'state' column\n",
    "test_pandas['state'] = test_pandas['location'].apply(extract_state)\n",
    "\n"
   ]
  },
  {
   "cell_type": "code",
   "execution_count": 15,
   "metadata": {},
   "outputs": [],
   "source": [
    "\n",
    "\n",
    "\n",
    "\n",
    "def parse_user_agent(user_agent_string):\n",
    "    ua = parse(user_agent_string)\n",
    "    return {\n",
    "        'Browser Family': ua.browser.family,\n",
    "        'Browser Version': ua.browser.version_string,\n",
    "        'OS Family': ua.os.family,\n",
    "        'OS Version': ua.os.version_string,\n",
    "        'Device Family': ua.device.family\n",
    "    }\n",
    "\n",
    "\n",
    "\n",
    "test_pandas['userAgent'] = test_pandas['userAgent'].astype(str)\n",
    "\n",
    "\n",
    "# Apply parsing function to 'user_agent' column\n",
    "parsed_data = test_pandas['userAgent'].apply(parse_user_agent)\n",
    "\n",
    "# Expand parsed_data dictionary into DataFrame\n",
    "parsed_df = pd.DataFrame(parsed_data.tolist())\n",
    "\n",
    "# Concatenate parsed_df with original df"
   ]
  },
  {
   "cell_type": "code",
   "execution_count": 16,
   "metadata": {},
   "outputs": [],
   "source": [
    "test_pandas = pd.concat([test_pandas, parsed_df], axis=1)"
   ]
  },
  {
   "cell_type": "code",
   "execution_count": 17,
   "metadata": {},
   "outputs": [
    {
     "data": {
      "text/plain": [
       "Index(['artist', 'auth', 'firstName', 'gender', 'itemInSession', 'lastName',\n",
       "       'length', 'level', 'location', 'method', 'page', 'registration',\n",
       "       'sessionId', 'song', 'status', 'ts', 'userAgent', 'userId', 'churn',\n",
       "       'state', 'Browser Family', 'Browser Version', 'OS Family', 'OS Version',\n",
       "       'Device Family'],\n",
       "      dtype='object')"
      ]
     },
     "execution_count": 17,
     "metadata": {},
     "output_type": "execute_result"
    }
   ],
   "source": [
    "test_pandas.columns"
   ]
  },
  {
   "cell_type": "markdown",
   "metadata": {},
   "source": [
    "Analyzing customers that have churned"
   ]
  },
  {
   "cell_type": "code",
   "execution_count": 18,
   "metadata": {},
   "outputs": [
    {
     "data": {
      "image/png": "[encoded data removed]",
      "text/plain": [
       "<Figure size 1000x600 with 1 Axes>"
      ]
     },
     "metadata": {},
     "output_type": "display_data"
    }
   ],
   "source": [
    "import matplotlib.pyplot as plt\n",
    "churned = test_pandas[test_pandas['churn'] == 1]\n",
    "non_churned = test_pandas[test_pandas['churn'] == 0]\n",
    "\n",
    "churned_gender_counts = churned['gender'].value_counts()\n",
    "non_churned_gender_counts = non_churned['gender'].value_counts()\n",
    "\n",
    "gender_counts = pd.DataFrame({\n",
    "    'Churned': churned_gender_counts,\n",
    "    'Non-Churned': non_churned_gender_counts\n",
    "}).fillna(0)\n",
    "\n",
    "ax = gender_counts.plot(kind='bar', figsize=(10, 6), log=True, color=['orange', 'blue'])\n",
    "plt.title('Gender Counts for Churned vs. Non-Churned Users')\n",
    "plt.xlabel('Gender')\n",
    "plt.ylabel('Count (log scale)')\n",
    "plt.xticks(rotation=0)\n",
    "\n",
    "# Adding data labels to each bar\n",
    "for container in ax.containers:\n",
    "    ax.bar_label(container, label_type='edge')\n",
    "\n",
    "plt.show()\n"
   ]
  },
  {
   "cell_type": "markdown",
   "metadata": {},
   "source": [
    "From this example, we can see that men are more likley to churn than women"
   ]
  },
  {
   "cell_type": "code",
   "execution_count": 19,
   "metadata": {},
   "outputs": [
    {
     "data": {
      "image/png": "[encoded data removed]",
      "text/plain": [
       "<Figure size 1500x800 with 1 Axes>"
      ]
     },
     "metadata": {},
     "output_type": "display_data"
    }
   ],
   "source": [
    "churn_counts = test_pandas.groupby(['state', 'churn']).size().unstack(fill_value=0)\n",
    "\n",
    "# Summing counts to get total counts by state for sorting\n",
    "total_counts = churn_counts.sum(axis=1)\n",
    "\n",
    "# Selecting the top 15 states based on total counts\n",
    "top_states = total_counts.nlargest(15).index\n",
    "\n",
    "# Filtering the counts to include only the top 15 states\n",
    "churn_counts = churn_counts.loc[top_states]\n",
    "\n",
    "# Plotting the bar chart\n",
    "fig, ax = plt.subplots(figsize=(15, 8))\n",
    "churn_counts.plot(kind='bar', log=True, ax=ax, color=['blue', 'orange'])\n",
    "plt.title('Churn Counts by State (Top 15 States)')\n",
    "plt.xlabel('State')\n",
    "plt.ylabel('Count (log scale)')\n",
    "plt.xticks(rotation=45)\n",
    "\n",
    "# Adding data labels to each bar\n",
    "for container in ax.containers:\n",
    "    ax.bar_label(container, label_type='edge')\n",
    "\n",
    "plt.legend(title='Churned (1) / Non-Churned (0)')\n",
    "plt.show()"
   ]
  },
  {
   "cell_type": "markdown",
   "metadata": {},
   "source": [
    "This displays the top states that had the most churn. "
   ]
  },
  {
   "cell_type": "code",
   "execution_count": 20,
   "metadata": {},
   "outputs": [
    {
     "data": {
      "image/png": "[encoded data removed]",
      "text/plain": [
       "<Figure size 1500x800 with 1 Axes>"
      ]
     },
     "metadata": {},
     "output_type": "display_data"
    }
   ],
   "source": [
    "churn_counts = test_pandas.groupby(['Browser Family', 'churn']).size().unstack(fill_value=0)\n",
    "\n",
    "# Summing counts to get total counts by state for sorting\n",
    "total_counts = churn_counts.sum(axis=1)\n",
    "\n",
    "# Selecting the top 15 states based on total counts\n",
    "top_browser = total_counts.nlargest(15).index\n",
    "\n",
    "# Filtering the counts to include only the top 15 states\n",
    "churn_counts = churn_counts.loc[top_browser]\n",
    "\n",
    "# Plotting the bar chart\n",
    "fig, ax = plt.subplots(figsize=(15, 8))\n",
    "churn_counts.plot(kind='bar', log=True, ax=ax, color=['blue', 'orange'])\n",
    "plt.title('Churn Counts by Brows')\n",
    "plt.xlabel('Browser')\n",
    "plt.ylabel('Count (log scale)')\n",
    "plt.xticks(rotation=45)\n",
    "\n",
    "# Adding data labels to each bar\n",
    "for container in ax.containers:\n",
    "    ax.bar_label(container, label_type='edge')\n",
    "\n",
    "plt.legend(title='Churned (1) / Non-Churned (0)')\n",
    "plt.show()"
   ]
  },
  {
   "cell_type": "markdown",
   "metadata": {},
   "source": [
    "The browser that had the biggest churn users was Chrome while CHromium is the least"
   ]
  },
  {
   "cell_type": "code",
   "execution_count": 21,
   "metadata": {},
   "outputs": [
    {
     "data": {
      "image/png": "[encoded data removed]",
      "text/plain": [
       "<Figure size 1500x800 with 1 Axes>"
      ]
     },
     "metadata": {},
     "output_type": "display_data"
    }
   ],
   "source": [
    "churn_counts = test_pandas.groupby(['Device Family', 'churn']).size().unstack(fill_value=0)\n",
    "\n",
    "# Summing counts to get total counts by state for sorting\n",
    "total_counts = churn_counts.sum(axis=1)\n",
    "\n",
    "# Selecting the top 15 states based on total counts\n",
    "top_device = total_counts.nlargest(15).index\n",
    "\n",
    "# Filtering the counts to include only the top 15 states\n",
    "churn_counts = churn_counts.loc[top_device]\n",
    "\n",
    "# Plotting the bar chart\n",
    "fig, ax = plt.subplots(figsize=(15, 8))\n",
    "churn_counts.plot(kind='bar', log=True, ax=ax, color=['blue', 'orange'])\n",
    "plt.title('Churn Counts by Device Family')\n",
    "plt.xlabel('Device Family')\n",
    "plt.ylabel('Count (log scale)')\n",
    "plt.xticks(rotation=45)\n",
    "\n",
    "# Adding data labels to each bar\n",
    "for container in ax.containers:\n",
    "    ax.bar_label(container, label_type='edge')\n",
    "\n",
    "plt.legend(title='Churned (1) / Non-Churned (0)')\n",
    "plt.show()"
   ]
  },
  {
   "cell_type": "markdown",
   "metadata": {},
   "source": [
    "The device family with most churn except other is 35 for MAC. "
   ]
  },
  {
   "cell_type": "code",
   "execution_count": 22,
   "metadata": {},
   "outputs": [
    {
     "data": {
      "image/png": "[encoded data removed]",
      "text/plain": [
       "<Figure size 1000x600 with 1 Axes>"
      ]
     },
     "metadata": {},
     "output_type": "display_data"
    }
   ],
   "source": [
    "churned = test_pandas[test_pandas['churn'] == 1]\n",
    "non_churned = test_pandas[test_pandas['churn'] == 0]\n",
    "\n",
    "churned_level_counts = churned['level'].value_counts()\n",
    "non_churned_level_counts = non_churned['level'].value_counts()\n",
    "\n",
    "gender_counts = pd.DataFrame({\n",
    "    'Churned': churned_level_counts,\n",
    "    'Non-Churned': non_churned_level_counts\n",
    "}).fillna(0)\n",
    "\n",
    "ax = gender_counts.plot(kind='bar', figsize=(10, 6), log=True, color=['orange', 'blue'])\n",
    "plt.title('Level Counts for Churned vs. Non-Churned Users')\n",
    "plt.xlabel('Level')\n",
    "plt.ylabel('Count (log scale)')\n",
    "plt.xticks(rotation=0)\n",
    "\n",
    "# Adding data labels to each bar\n",
    "for container in ax.containers:\n",
    "    ax.bar_label(container, label_type='edge')\n",
    "\n",
    "plt.show()\n"
   ]
  },
  {
   "cell_type": "markdown",
   "metadata": {},
   "source": [
    "We can tell that among the churned customers, there were about 68 who were paying, while 33 had the free version"
   ]
  },
  {
   "cell_type": "markdown",
   "metadata": {},
   "source": [
    "### Data Preprocessing"
   ]
  },
  {
   "cell_type": "code",
   "execution_count": 23,
   "metadata": {},
   "outputs": [
    {
     "name": "stdout",
     "output_type": "stream",
     "text": [
      "+--------------------+----------+---------+------+-------------+--------+---------+-----+--------------------+------+---------+--------------+---------+--------------------+------+-------------+--------------------+------+-----+-----+--------------+---------------+---------+----------+-------------+\n",
      "|              artist|      auth|firstName|gender|itemInSession|lastName|   length|level|            location|method|     page|  registration|sessionId|                song|status|           ts|           userAgent|userId|churn|state|Browser Family|Browser Version|OS Family|OS Version|Device Family|\n",
      "+--------------------+----------+---------+------+-------------+--------+---------+-----+--------------------+------+---------+--------------+---------+--------------------+------+-------------+--------------------+------+-----+-----+--------------+---------------+---------+----------+-------------+\n",
      "|     Yeah Yeah Yeahs| Logged In|    Jaxon|     M|          528|  Reilly|120.05832| paid|    Jacksonville, FL|   PUT| NextSong|1.531760527E12|     3425|                 Pin|   200|1541859494000|Mozilla/5.0 (Wind...|    86|    0|   FL|       Firefox|           31.0|  Windows|         7|        Other|\n",
      "|     Vampire Weekend| Logged In|   Sophia|     F|           60|    Hunt|137.82159| paid|        Billings, MT|   PUT| NextSong|1.532498424E12|     3450|      A-Punk (Album)|   200|1541866274000|\"Mozilla/5.0 (Win...|   104|    0|   MT|        Chrome|      36.0.1985|  Windows|         7|        Other|\n",
      "|                null| Logged In|  Arianna|     F|           68| Bullock|      NaN| paid|          Topeka, KS|   PUT|Thumbs Up|1.538314334E12|     3510|                null|   307|1541866438000|Mozilla/5.0 (Wind...|   283|    0|   KS|            IE|           11.0|  Windows|       8.1|        Other|\n",
      "|           Tom Petty| Logged In|   Sophia|     F|           95|    Hunt|289.43628| paid|        Billings, MT|   PUT| NextSong|1.532498424E12|     3450|You Don't Know Ho...|   200|1541872508000|\"Mozilla/5.0 (Win...|   104|    0|   MT|        Chrome|      36.0.1985|  Windows|         7|        Other|\n",
      "|      Charley Patton| Logged In| Julianna|     F|           26| Sanders|174.54975| free|Greenville-Anders...|   PUT| NextSong|1.538203744E12|     2787|Jesus Is A-Dying ...|   200|1541874856000|\"Mozilla/5.0 (Mac...|   240|    0|   SC|        Chrome|      36.0.1985| Mac OS X|    10.9.4|          Mac|\n",
      "|          Bob Marley| Logged In| Julianna|     F|           65| Sanders|173.24363| free|Greenville-Anders...|   PUT| NextSong|1.538203744E12|     2787|  Lively Up Yourself|   200|1541881420000|\"Mozilla/5.0 (Mac...|   240|    0|   SC|        Chrome|      36.0.1985| Mac OS X|    10.9.4|          Mac|\n",
      "|          Katy Perry| Logged In|   Adriel|     M|           68| Mendoza|179.40853| paid|  Kansas City, MO-KS|   PUT| NextSong|1.535623466E12|     3487|     I Kissed A Girl|   200|1541882016000|\"Mozilla/5.0 (Mac...|    18|    0|MO-KS|        Safari|          7.0.5| Mac OS X|    10.9.4|          Mac|\n",
      "|             Rihanna| Logged In| Julianna|     F|           73| Sanders|267.49342| free|Greenville-Anders...|   PUT| NextSong|1.538203744E12|     2787|Don't Stop The Music|   200|1541882788000|\"Mozilla/5.0 (Mac...|   240|    0|   SC|        Chrome|      36.0.1985| Mac OS X|    10.9.4|          Mac|\n",
      "|     Camerata Brasil| Logged In|   Sophia|     F|          161|    Hunt|280.97261| paid|        Billings, MT|   PUT| NextSong|1.532498424E12|     3450|Partida no.4 in D...|   200|1541886680000|\"Mozilla/5.0 (Win...|   104|    0|   MT|        Chrome|      36.0.1985|  Windows|         7|        Other|\n",
      "|         Cannibal Ox| Logged In|  Jackson|     M|           16| Hoffman|331.78077| paid|Los Angeles-Long ...|   PUT| NextSong|1.537054964E12|     3397|          Stress Rap|   200|1541894509000|Mozilla/5.0 (Wind...|   185|    0|   CA|            IE|           11.0|  Windows|         7|        Other|\n",
      "|           Pete Rock| Logged In|    Jaxon|     M|          710|  Reilly|341.26322| paid|    Jacksonville, FL|   PUT| NextSong|1.531760527E12|     3425|       A Little Soul|   200|1541894729000|Mozilla/5.0 (Wind...|    86|    0|   FL|       Firefox|           31.0|  Windows|         7|        Other|\n",
      "|     Jimmy Eat World| Logged In|   Adriel|     M|          139| Mendoza|166.00771| paid|  Kansas City, MO-KS|   PUT| NextSong|1.535623466E12|     3487|          The Middle|   200|1541896911000|\"Mozilla/5.0 (Mac...|    18|    0|MO-KS|        Safari|          7.0.5| Mac OS X|    10.9.4|          Mac|\n",
      "|          Marla Glen| Logged In|    Colin|     M|          209| Freeman|285.70077| paid|     Bakersfield, CA|   PUT| NextSong|1.538173362E12|     3513|    Love And Respect|   200|1541914529000|Mozilla/5.0 (Wind...|    30|    0|   CA|       Firefox|           31.0|  Windows|         7|        Other|\n",
      "|      Tevin Campbell| Logged In|    Jaxon|     M|          802|  Reilly|181.55057| paid|    Jacksonville, FL|   PUT| NextSong|1.531760527E12|     3425|           Stand Out|   200|1541914845000|Mozilla/5.0 (Wind...|    86|    0|   FL|       Firefox|           31.0|  Windows|         7|        Other|\n",
      "|            Calle 13| Logged In|    Colin|     M|          224| Freeman|214.80444| paid|     Bakersfield, CA|   PUT| NextSong|1.538173362E12|     3513|            Cabe-c-o|   200|1541917442000|Mozilla/5.0 (Wind...|    30|    0|   CA|       Firefox|           31.0|  Windows|         7|        Other|\n",
      "|             Ratatat| Logged In|    Jaxon|     M|          819|  Reilly|229.77261| paid|    Jacksonville, FL|   PUT| NextSong|1.531760527E12|     3425|              Swisha|   200|1541918413000|Mozilla/5.0 (Wind...|    86|    0|   FL|       Firefox|           31.0|  Windows|         7|        Other|\n",
      "|Dietrich Schoenemann| Logged In|   Oliver|     M|          117|   Rivas|439.43138| paid|Sacramento--Rosev...|   PUT| NextSong|1.530674962E12|     3467|Tastes Like Maria...|   200|1541920013000|\"Mozilla/5.0 (Mac...|    67|    0|   CA|        Safari|            8.0| Mac OS X|     10.10|          Mac|\n",
      "|         Silverstein| Logged In|  Arianna|     F|          342| Bullock| 197.3024| paid|          Topeka, KS|   PUT| NextSong|1.538314334E12|     3510|Already Dead (Alb...|   200|1541921019000|Mozilla/5.0 (Wind...|   283|    0|   KS|            IE|           11.0|  Windows|       8.1|        Other|\n",
      "|                null|Logged Out|     null|  null|          268|    null|      NaN| paid|                None|   GET|     Help|           NaN|     3513|                null|   200|1541926014000|                None|      |    0| null|         Other|               |    Other|          |        Other|\n",
      "|            Pavement| Logged In|   Parker|     M|            7|Williams| 99.16036| paid|San Francisco-Oak...|   PUT| NextSong|1.537188538E12|     3507|Mercy:The Laundromat|   200|1541937438000|\"Mozilla/5.0 (iPh...|    61|    0|   CA| Mobile Safari|            7.0|      iOS|     7.1.1|       iPhone|\n",
      "+--------------------+----------+---------+------+-------------+--------+---------+-----+--------------------+------+---------+--------------+---------+--------------------+------+-------------+--------------------+------+-----+-----+--------------+---------------+---------+----------+-------------+\n",
      "only showing top 20 rows\n",
      "\n"
     ]
    }
   ],
   "source": [
    "spark_ml_df = spark.createDataFrame(test_pandas)\n",
    " \n",
    "spark_ml_df.show()"
   ]
  },
  {
   "cell_type": "code",
   "execution_count": 24,
   "metadata": {},
   "outputs": [],
   "source": [
    "columns_to_check = ['gender', 'level', 'state', 'Browser Family', 'Browser Version', 'OS Family',  'Device Family']\n",
    "\n",
    "spark_ml_df = spark_ml_df.dropna(subset=columns_to_check)"
   ]
  },
  {
   "cell_type": "code",
   "execution_count": 25,
   "metadata": {},
   "outputs": [
    {
     "data": {
      "text/plain": [
       "Row(artist='Yeah Yeah Yeahs', auth='Logged In', firstName='Jaxon', gender='M', itemInSession=528, lastName='Reilly', length=120.05832, level='paid', location='Jacksonville, FL', method='PUT', page='NextSong', registration=1531760527000.0, sessionId=3425, song='Pin', status=200, ts=1541859494000, userAgent='Mozilla/5.0 (Windows NT 6.1; WOW64; rv:31.0) Gecko/20100101 Firefox/31.0', userId='86', churn=0, state='FL', Browser Family='Firefox', Browser Version='31.0', OS Family='Windows', OS Version='7', Device Family='Other')"
      ]
     },
     "execution_count": 25,
     "metadata": {},
     "output_type": "execute_result"
    }
   ],
   "source": [
    "spark_ml_df.head()"
   ]
  },
  {
   "cell_type": "code",
   "execution_count": 26,
   "metadata": {},
   "outputs": [],
   "source": [
    "page_counts = spark_ml_df.groupBy('page').count()"
   ]
  },
  {
   "cell_type": "code",
   "execution_count": 27,
   "metadata": {},
   "outputs": [
    {
     "data": {
      "text/plain": [
       "['artist',\n",
       " 'auth',\n",
       " 'firstName',\n",
       " 'gender',\n",
       " 'itemInSession',\n",
       " 'lastName',\n",
       " 'length',\n",
       " 'level',\n",
       " 'location',\n",
       " 'method',\n",
       " 'page',\n",
       " 'registration',\n",
       " 'sessionId',\n",
       " 'song',\n",
       " 'status',\n",
       " 'ts',\n",
       " 'userAgent',\n",
       " 'userId',\n",
       " 'churn',\n",
       " 'state',\n",
       " 'Browser Family',\n",
       " 'Browser Version',\n",
       " 'OS Family',\n",
       " 'OS Version',\n",
       " 'Device Family']"
      ]
     },
     "execution_count": 27,
     "metadata": {},
     "output_type": "execute_result"
    }
   ],
   "source": [
    "spark_ml_df.columns"
   ]
  },
  {
   "cell_type": "code",
   "execution_count": 28,
   "metadata": {},
   "outputs": [],
   "source": [
    "from pyspark.sql import SparkSession\n",
    "from pyspark.ml import Pipeline\n",
    "from pyspark.ml.feature import StringIndexer, OneHotEncoder, VectorAssembler"
   ]
  },
  {
   "cell_type": "code",
   "execution_count": 29,
   "metadata": {},
   "outputs": [
    {
     "name": "stdout",
     "output_type": "stream",
     "text": [
      "+---------------------------------------------------------+\n",
      "|features                                                 |\n",
      "+---------------------------------------------------------+\n",
      "|(102,[0,1,5,72,77,95,99],[1.0,1.0,1.0,1.0,1.0,1.0,1.0])  |\n",
      "|(102,[1,41,71,76,95,99],[1.0,1.0,1.0,1.0,1.0,1.0])       |\n",
      "|(102,[1,32,74,82,95,99],[1.0,1.0,1.0,1.0,1.0,1.0])       |\n",
      "|(102,[1,41,71,76,95,99],[1.0,1.0,1.0,1.0,1.0,1.0])       |\n",
      "|(102,[63,71,76,96,100],[1.0,1.0,1.0,1.0,1.0])            |\n",
      "|(102,[63,71,76,96,100],[1.0,1.0,1.0,1.0,1.0])            |\n",
      "|(102,[0,1,24,73,79,96,100],[1.0,1.0,1.0,1.0,1.0,1.0,1.0])|\n",
      "|(102,[63,71,76,96,100],[1.0,1.0,1.0,1.0,1.0])            |\n",
      "|(102,[1,41,71,76,95,99],[1.0,1.0,1.0,1.0,1.0,1.0])       |\n",
      "|(102,[0,1,2,74,82,95,99],[1.0,1.0,1.0,1.0,1.0,1.0,1.0])  |\n",
      "|(102,[0,1,5,72,77,95,99],[1.0,1.0,1.0,1.0,1.0,1.0,1.0])  |\n",
      "|(102,[0,1,24,73,79,96,100],[1.0,1.0,1.0,1.0,1.0,1.0,1.0])|\n",
      "|(102,[0,1,2,72,77,95,99],[1.0,1.0,1.0,1.0,1.0,1.0,1.0])  |\n",
      "|(102,[0,1,5,72,77,95,99],[1.0,1.0,1.0,1.0,1.0,1.0,1.0])  |\n",
      "|(102,[0,1,2,72,77,95,99],[1.0,1.0,1.0,1.0,1.0,1.0,1.0])  |\n",
      "|(102,[0,1,5,72,77,95,99],[1.0,1.0,1.0,1.0,1.0,1.0,1.0])  |\n",
      "|(102,[0,1,2,73,87,96,100],[1.0,1.0,1.0,1.0,1.0,1.0,1.0]) |\n",
      "|(102,[1,32,74,82,95,99],[1.0,1.0,1.0,1.0,1.0,1.0])       |\n",
      "|(102,[0,1,2,75,80,97],[1.0,1.0,1.0,1.0,1.0,1.0])         |\n",
      "|(102,[0,1,8,72,77,95,99],[1.0,1.0,1.0,1.0,1.0,1.0,1.0])  |\n",
      "+---------------------------------------------------------+\n",
      "only showing top 20 rows\n",
      "\n"
     ]
    }
   ],
   "source": [
    "\n",
    "cleaned_column_names = [col_name.strip().replace(\" \", \"_\") if col_name.strip() else \"Unknown\" for col_name in spark_ml_df.columns]\n",
    "spark_ml_df = spark_ml_df.toDF(*cleaned_column_names)\n",
    "\n",
    "# List of columns to check for NaN values (optional if you've handled this already)\n",
    "columns_to_check = ['gender', 'level', 'state', 'Browser_Family', 'Browser_Version', 'OS_Family', 'Device_Family']\n",
    "\n",
    "# Drop rows with NaN values in specified columns\n",
    "spark_ml_df = spark_ml_df.dropna(subset=columns_to_check)\n",
    "\n",
    "# List of categorical columns\n",
    "categorical_cols = ['gender', 'level', 'state', 'Browser_Family', 'Browser_Version', 'OS_Family', 'Device_Family']\n",
    "\n",
    "# Index and encode categorical columns\n",
    "indexers = [StringIndexer(inputCol=col, outputCol=col+\"_index\") for col in categorical_cols]\n",
    "encoders = [OneHotEncoder(inputCol=col+\"_index\", outputCol=col+\"_ohe\") for col in categorical_cols]\n",
    "\n",
    "# Assemble the feature vector using only the categorical columns\n",
    "assembler_inputs = [col+\"_ohe\" for col in categorical_cols]\n",
    "assembler = VectorAssembler(inputCols=assembler_inputs, outputCol=\"features\")\n",
    "\n",
    "# Create and run the pipeline\n",
    "pipeline = Pipeline(stages=indexers + encoders + [assembler])\n",
    "df_prepared = pipeline.fit(spark_ml_df).transform(spark_ml_df)\n",
    "\n",
    "# Inspect the prepared DataFrame\n",
    "df_prepared.select(\"features\").show(truncate=False)"
   ]
  },
  {
   "cell_type": "code",
   "execution_count": 57,
   "metadata": {},
   "outputs": [],
   "source": [
    "feature_vector = df_prepared.select(\"features\").first()[\"features\"]\n",
    "feature_names_expanded = [f\"feature_{i}\" for i in range(len(feature_vector))]"
   ]
  },
  {
   "cell_type": "markdown",
   "metadata": {},
   "source": [
    "### Building Models without parameters, and then optimizing them"
   ]
  },
  {
   "cell_type": "markdown",
   "metadata": {},
   "source": [
    "Unoptimized Logisitc Regression"
   ]
  },
  {
   "cell_type": "code",
   "execution_count": 30,
   "metadata": {},
   "outputs": [],
   "source": [
    "train_data, test_data = df_prepared.randomSplit([0.8, 0.2], seed=1234)\n",
    "from pyspark.ml.classification import LogisticRegression\n",
    "from pyspark.ml.evaluation import BinaryClassificationEvaluator\n",
    "# Initialize the Logistic Regression model\n",
    "lr = LogisticRegression(labelCol=\"churn\", featuresCol=\"features\")\n",
    "\n",
    "# Fit the model on the training data\n",
    "lr_model = lr.fit(train_data)\n",
    "\n",
    "# Make predictions on the test data\n",
    "test_results = lr_model.transform(test_data)\n",
    "\n",
    "# Evaluate the model\n",
    "evaluator = BinaryClassificationEvaluator(labelCol=\"churn\")\n",
    "auc_base_logistic = evaluator.evaluate(test_results)"
   ]
  },
  {
   "cell_type": "code",
   "execution_count": 31,
   "metadata": {},
   "outputs": [
    {
     "data": {
      "text/plain": [
       "0.5724750867384096"
      ]
     },
     "execution_count": 31,
     "metadata": {},
     "output_type": "execute_result"
    }
   ],
   "source": [
    "auc_base_logistic"
   ]
  },
  {
   "cell_type": "code",
   "execution_count": 32,
   "metadata": {},
   "outputs": [
    {
     "name": "stdout",
     "output_type": "stream",
     "text": [
      "F1 Score: 0.9997008390764878\n"
     ]
    }
   ],
   "source": [
    "from pyspark.ml.evaluation import BinaryClassificationEvaluator, MulticlassClassificationEvaluator\n",
    "evaluator_f1 = MulticlassClassificationEvaluator(labelCol=\"churn\", metricName=\"f1\")\n",
    "f1_score_base_logistic = evaluator_f1.evaluate(test_results)\n",
    "print(f\"F1 Score: {f1_score_base_logistic}\")\n"
   ]
  },
  {
   "cell_type": "markdown",
   "metadata": {},
   "source": [
    "Optmizing and fine tuning the logistic"
   ]
  },
  {
   "cell_type": "code",
   "execution_count": 33,
   "metadata": {},
   "outputs": [
    {
     "name": "stdout",
     "output_type": "stream",
     "text": [
      "AUC: 0.6002123790525046\n",
      "F1 Score: 0.9997008390764878\n"
     ]
    }
   ],
   "source": [
    "\n",
    "from pyspark.ml.classification import LogisticRegression\n",
    "from pyspark.ml.evaluation import BinaryClassificationEvaluator, MulticlassClassificationEvaluator\n",
    "from pyspark.ml.tuning import CrossValidator, ParamGridBuilder\n",
    "lr2 = LogisticRegression(labelCol=\"churn\", featuresCol=\"features\")\n",
    "\n",
    "# Define the parameter grid for hyperparameter tuning\n",
    "paramGrid = ParamGridBuilder() \\\n",
    "    .addGrid(lr2.regParam, [0.01, 0.1, 0.5]) \\\n",
    "    .addGrid(lr2.elasticNetParam, [0.0, 0.5]) \\\n",
    "    .addGrid(lr2.maxIter, [10, 50]) \\\n",
    "    .build()\n",
    "\n",
    "evaluator = BinaryClassificationEvaluator(labelCol=\"churn\")\n",
    "\n",
    "crossval = CrossValidator(estimator=lr2,\n",
    "                          estimatorParamMaps=paramGrid,\n",
    "                          evaluator=evaluator,\n",
    "                          numFolds=3,\n",
    "                          parallelism=4)  \n",
    "\n",
    "cvModellr2 = crossval.fit(train_data)\n",
    "\n",
    "test_results_lr2 = cvModellr2.transform(test_data)\n",
    "\n",
    "auc_cross_validation_logistic_optimized = evaluator.evaluate(test_results_lr2)\n",
    "print(f\"AUC: {auc_cross_validation_logistic_optimized}\")\n",
    "                                                    \n",
    "f1_evaluator = MulticlassClassificationEvaluator(labelCol=\"churn\", metricName=\"f1\")\n",
    "\n",
    "f1_score_cross_validation_logistic_optimized = f1_evaluator.evaluate(test_results_lr2)\n",
    "print(f\"F1 Score: {f1_score_cross_validation_logistic_optimized}\")"
   ]
  },
  {
   "cell_type": "markdown",
   "metadata": {},
   "source": [
    "Doing a decision tree that is not optimized"
   ]
  },
  {
   "cell_type": "code",
   "execution_count": 34,
   "metadata": {
    "scrolled": true
   },
   "outputs": [
    {
     "name": "stdout",
     "output_type": "stream",
     "text": [
      "AUC for Decision Tree: 0.5\n"
     ]
    }
   ],
   "source": [
    "from pyspark.ml.classification import DecisionTreeClassifier\n",
    "from pyspark.ml.evaluation import BinaryClassificationEvaluator\n",
    "\n",
    "train_data, test_data = df_prepared.randomSplit([0.8, 0.2], seed=1234)\n",
    "\n",
    "dt = DecisionTreeClassifier(labelCol=\"churn\", featuresCol=\"features\")\n",
    "\n",
    "dt_model = dt.fit(train_data)\n",
    "\n",
    "test_results_dt = dt_model.transform(test_data)\n",
    "\n",
    "evaluator = BinaryClassificationEvaluator(labelCol=\"churn\")\n",
    "auc_base_dt = evaluator.evaluate(test_results_dt)\n",
    "print(f\"AUC for Decision Tree: {auc_base_dt}\")"
   ]
  },
  {
   "cell_type": "code",
   "execution_count": 35,
   "metadata": {},
   "outputs": [],
   "source": [
    "f1_evaluator = MulticlassClassificationEvaluator(labelCol=\"churn\", metricName=\"f1\")"
   ]
  },
  {
   "cell_type": "code",
   "execution_count": 36,
   "metadata": {},
   "outputs": [
    {
     "name": "stdout",
     "output_type": "stream",
     "text": [
      "F1 Score for Decision Tree Unoptimized: 0.9997008390764878\n"
     ]
    }
   ],
   "source": [
    "f1_score_base_dt = f1_evaluator.evaluate(test_results_dt)\n",
    "print(f\"F1 Score for Decision Tree Unoptimized: {f1_score_base_dt}\")"
   ]
  },
  {
   "cell_type": "markdown",
   "metadata": {},
   "source": [
    "Optimized decision tree"
   ]
  },
  {
   "cell_type": "code",
   "execution_count": 37,
   "metadata": {},
   "outputs": [
    {
     "name": "stdout",
     "output_type": "stream",
     "text": [
      "AUC optimized: 0.5\n",
      "F1 Score Optimized: 0.9997008390764878\n"
     ]
    }
   ],
   "source": [
    "from pyspark.ml.classification import DecisionTreeClassifier\n",
    "from pyspark.ml.evaluation import BinaryClassificationEvaluator, MulticlassClassificationEvaluator\n",
    "from pyspark.ml.tuning import CrossValidator, ParamGridBuilder\n",
    "\n",
    "# Initialize the Decision Tree model\n",
    "dt_optimized = DecisionTreeClassifier(labelCol=\"churn\", featuresCol=\"features\")\n",
    "\n",
    "# Define the parameter grid for hyperparameter tuning\n",
    "paramGrid = ParamGridBuilder() \\\n",
    "    .addGrid(dt_optimized.maxDepth, [5, 10, 20]) \\\n",
    "    .addGrid(dt_optimized.minInstancesPerNode, [1, 5, 10]) \\\n",
    "    .build()\n",
    "\n",
    "# Define the evaluator for binary classification\n",
    "evaluator = BinaryClassificationEvaluator(labelCol=\"churn\")\n",
    "\n",
    "# Define the CrossValidator\n",
    "crossval = CrossValidator(estimator=dt_optimized,\n",
    "                          estimatorParamMaps=paramGrid,\n",
    "                          evaluator=evaluator,\n",
    "                          numFolds=3,\n",
    "                          parallelism=4)\n",
    "\n",
    "cvModelDTOptimized = crossval.fit(train_data)\n",
    "\n",
    "test_results_dt_optimized = cvModelDTOptimized.transform(test_data)\n",
    "\n",
    "auc_cross_validation_dt_optimized = evaluator.evaluate(test_results_dt_optimized)\n",
    "print(f\"AUC optimized: {auc_cross_validation_dt_optimized}\")\n",
    "\n",
    "f1_evaluator = MulticlassClassificationEvaluator(labelCol=\"churn\", metricName=\"f1\")\n",
    "\n",
    "f1_score_cross_validation_dt_optimized = f1_evaluator.evaluate(test_results_dt_optimized)\n",
    "print(f\"F1 Score Optimized: {f1_score_cross_validation_dt_optimized}\")"
   ]
  },
  {
   "cell_type": "markdown",
   "metadata": {},
   "source": [
    "Unoptimized Random Forest Tree"
   ]
  },
  {
   "cell_type": "code",
   "execution_count": 38,
   "metadata": {},
   "outputs": [],
   "source": [
    "\n",
    "from pyspark.ml.classification import RandomForestClassifier\n",
    "rf_unoptimized = RandomForestClassifier(labelCol=\"churn\", featuresCol=\"features\")\n",
    "\n",
    "# Fit the model on the training data\n",
    "rf_model_unoptimized = rf_unoptimized.fit(train_data)\n",
    "\n",
    "# Make predictions on the test data\n",
    "test_results_rf_unoptimized = rf_model_unoptimized.transform(test_data)\n",
    "\n",
    "# Evaluate the model\n",
    "evaluator = BinaryClassificationEvaluator(labelCol=\"churn\")\n",
    "auc_base_rf_unoptimized = evaluator.evaluate(test_results_rf_unoptimized)"
   ]
  },
  {
   "cell_type": "code",
   "execution_count": 39,
   "metadata": {},
   "outputs": [
    {
     "data": {
      "text/plain": [
       "0.5"
      ]
     },
     "execution_count": 39,
     "metadata": {},
     "output_type": "execute_result"
    }
   ],
   "source": [
    "auc_base_rf_unoptimized"
   ]
  },
  {
   "cell_type": "markdown",
   "metadata": {},
   "source": [
    "Optimized Random Forest Tree"
   ]
  },
  {
   "cell_type": "code",
   "execution_count": null,
   "metadata": {},
   "outputs": [],
   "source": [
    "rf_optimized = RandomForestClassifier(labelCol=\"churn\", featuresCol=\"features\")\n",
    "\n",
    "# Define the parameter grid for hyperparameter tuning\n",
    "paramGrid = ParamGridBuilder() \\\n",
    "    .addGrid(rf_optimized.maxDepth, [5, 10, 20]) \\\n",
    "    .addGrid(rf_optimized.numTrees, [20, 50, 100]) \\\n",
    "    .build()\n",
    "\n",
    "evaluator = BinaryClassificationEvaluator(labelCol=\"churn\")\n",
    "\n",
    "crossval = CrossValidator(estimator=rf_optimized,\n",
    "                          estimatorParamMaps=paramGrid,\n",
    "                          evaluator=evaluator,\n",
    "                          numFolds=3,\n",
    "                          parallelism=4)\n",
    "\n",
    "cvModelRFOptimized = crossval.fit(train_data)\n",
    "\n",
    "test_results_rf_optimized = cvModelRFOptimized.transform(test_data)\n",
    "\n",
    "auc_cross_validation_rf_optimized = evaluator.evaluate(test_results_rf_optimized)\n",
    "print(f\"AUC optimized: {auc_cross_validation_rf_optimized}\")\n",
    "\n",
    "f1_evaluator = MulticlassClassificationEvaluator(labelCol=\"churn\", metricName=\"f1\")\n",
    "\n",
    "f1_score_cross_validation_rf_optimized = f1_evaluator.evaluate(test_results_rf_optimized)\n",
    "print(f\"F1 Score Optimized: {f1_score_cross_validation_rf_optimized}\")"
   ]
  },
  {
   "cell_type": "markdown",
   "metadata": {},
   "source": [
    "### Evaluating the models and Justification"
   ]
  },
  {
   "cell_type": "markdown",
   "metadata": {},
   "source": [
    "Based on all the models we ran, the one that gave us the highest AUC score was the optimized logistic regression model. The AUC score for that model was 0.597477214138023. All the other models gave very similar f-scores and auc."
   ]
  },
  {
   "cell_type": "markdown",
   "metadata": {},
   "source": [
    "Justification\n",
    "\n",
    "The final results show varying effectiveness of different machine learning techniques in predicting customer churn.\n",
    "Logistic Regression\n",
    "\n",
    "    Unoptimized AUC: 0.57\n",
    "    Unoptimized F1 Score: 0.9997\n",
    "    Optimized AUC: 0.59\n",
    "    Optimized F1 Score: 0.9997\n",
    "\n",
    "Insights: Logistic Regression had a lower AUC before optimization, but slightly improved after optimizing. Optimization didn't significantly improve aUC or f1 score.\n",
    "\n",
    "Decision Trees\n",
    "\n",
    "    Unoptimized and Optimized AUC and F1 Score: 0.5 for AUC and 0.9997 F score\n",
    "\n",
    "Insights: Hyperparameter tuning did not enhance performance, suggesting limited impact on the model's effectiveness.\n",
    "\n",
    "\n",
    "Random Forests\n",
    "\n",
    "    Unoptimized and Optimized AUC and F1 Score: 0.5 for AUC and 0.9997 Fscore\n",
    "\n",
    "Insights: Random Forests showed no improvement with tuning. Better parameters could have been chosen. \n",
    "\n",
    "Conclusion\n",
    "\n",
    "Random forest tuning had limited impact. Logistic Regression did the best with  AUC. Future work could explore advanced techniques like Gradient Boosting for better performance, aiding customer retention strategies."
   ]
  },
  {
   "cell_type": "markdown",
   "metadata": {},
   "source": [
    "### Reflection"
   ]
  },
  {
   "cell_type": "markdown",
   "metadata": {},
   "source": [
    "In this project, I analyzed user data from an online music streaming service to predict customer churn. Using Spark and various machine learning techniques, I processed and analyzed data to identify patterns and predict churn. The  objective was to build a model that accurately predicts which users are likely to churn, enabling the company to take proactive measures for customer retention. I did the following:\n",
    "\n",
    "Feature Engineering: Extracting meaningful features, such as parsing user agent strings and deriving state information, was crucial for model accuracy.\n",
    "Model Optimization: Hyperparameter tuning through cross-validation demonstrated the importance of fine-tuning parameters for optimal performance.\n",
    "\n",
    "Some challenges I encountered include the following:\n",
    "Imbalanced Data: There was not enough customer data on who churned.\n",
    "Scalability: It took a long time for the models to run. "
   ]
  },
  {
   "cell_type": "markdown",
   "metadata": {},
   "source": [
    "### Improvements"
   ]
  },
  {
   "cell_type": "markdown",
   "metadata": {},
   "source": [
    "Some improvements could include the following:"
   ]
  },
  {
   "cell_type": "markdown",
   "metadata": {},
   "source": [
    "Implementing ensemble techniques like Gradient Boosting or XGBoost could improve model performance. If there was a larger sample size of customer who churned, the model would be more accurate. I could also find a way to appropriate sample, so it does not take a long time for this to run. It took several hours to run. "
   ]
  },
  {
   "cell_type": "code",
   "execution_count": null,
   "metadata": {},
   "outputs": [],
   "source": []
  },
  {
   "cell_type": "code",
   "execution_count": null,
   "metadata": {},
   "outputs": [],
   "source": []
  }
 ],
 "metadata": {
  "kernelspec": {
   "display_name": "Python 3.10 with Spark",
   "language": "python3",
   "name": "python310"
  },
  "language_info": {
   "codemirror_mode": {
    "name": "ipython",
    "version": 3
   },
   "file_extension": ".py",
   "mimetype": "text/x-python",
   "name": "python",
   "nbconvert_exporter": "python",
   "pygments_lexer": "ipython3",
   "version": "3.10.13"
  }
 },
 "nbformat": 4,
 "nbformat_minor": 1
}
